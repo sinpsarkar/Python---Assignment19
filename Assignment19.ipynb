{
 "cells": [
  {
   "cell_type": "markdown",
   "metadata": {},
   "source": [
    "#### 1. What are the three stages to build the hypotheses or model in machine learning?"
   ]
  },
  {
   "cell_type": "markdown",
   "metadata": {},
   "source": [
    "Following are the three stages to build ht hypotheses in machine learning:\n",
    ">    i Model building<br>\n",
    ">    ii)  Model testing <br>\n",
    ">    iii) Applying the model<br>"
   ]
  },
  {
   "cell_type": "markdown",
   "metadata": {},
   "source": [
    "#### 2. What is the standard approach to supervised learning?"
   ]
  },
  {
   "cell_type": "markdown",
   "metadata": {},
   "source": [
    "The standard approach to supervised learning is as follows:\n",
    "\n",
    "> i) Select the Datasets based on the problem statement & clean the dataset by data mangling methods.\n",
    "\n",
    "> ii) Apply the principles of feature engineering i.e, extraction, selection & splitting the data into training and test set.\n",
    "\n",
    "> iii) Determine the function to represent the dependent variable as a function of input variables keeping in mind that the number of input variables should be just ample to describe the dependent variable, and shouldn't be more to avoid the curse of dimensionality.\n",
    "\n",
    "> iv) If data already exists, then split the data into train and test data sets. Else, the data needs to be gathered.\n",
    "\n",
    "> v)  Complete the design by run multiple iterations of the learning algorithm. Compare the observations between different iterations, and select the most desired one.\n",
    "\n",
    "> vi) Evaluate the model by applying it on the test data set"
   ]
  },
  {
   "cell_type": "markdown",
   "metadata": {},
   "source": [
    "#### 3. What is Training set and Test set?"
   ]
  },
  {
   "cell_type": "markdown",
   "metadata": {},
   "source": [
    "##### Training Set:\n",
    "\n",
    "Training set is a dataset used to train a model. It the the data set on which the actual model is built upon, so that the model learns from the information present in this dataset.\n",
    "\n",
    "##### Test Set?\n",
    "\n",
    "Test data set is used to evaluate the model built on the Training Dataset. If the scores and the observations with this is good, then the model can be considered good, else adjustments may be necessary to the model"
   ]
  },
  {
   "cell_type": "markdown",
   "metadata": {},
   "source": [
    "#### 4. What is the general principle of an ensemble method and what is bagging and boosting in ensemble method?"
   ]
  },
  {
   "cell_type": "markdown",
   "metadata": {},
   "source": [
    "<b>The general principle of an ensemble method</b> is to combine the predictions of several models built with a given learning algorithm in order to improve robustness over a single model.improve machine learning  by combining various models.\n",
    "\n",
    "<b>Bagging</b> is used when our goal is to reduce the variance of a decision tree. Each collection of subset data is used to train their models. Average of all the predictions from different models are used which is more robust than a single model.\n",
    "\n",
    "In <b>Boosting</b>, learners are learned sequentially with early learners fitting simple models to the data and then analyzing data for errors. That is, we fit consecutive models and at every step, the goal is to solve for net error from the prior tree."
   ]
  },
  {
   "cell_type": "markdown",
   "metadata": {},
   "source": [
    "#### 5. How can you avoid overfitting ?"
   ]
  },
  {
   "cell_type": "markdown",
   "metadata": {},
   "source": [
    "Overfitting can be avoided by adopting the below:\n",
    "> <b>Cross- Validation</b>: Use your initial training data to generate multiple mini train-test splits. Use these splits to tune your model\n",
    "\n",
    "> <b>Train with more data</b>: training with more data can help algorithms detect the signal better\n",
    "\n",
    "> <b>Improve generalizability</b>: This can be done by removing irrelevant input features.\n",
    "\n",
    "> <b>Early stopping</b>:\n",
    "While training a learning algorithm iteratively, performance of each iteration can be measured.<br>\n",
    "Up until a certain number of iterations, new iterations improve the model. After that point, however,<br> \n",
    "the model’s ability to generalize can weaken as it begins to overfit the training data.<br>\n",
    "Early stopping refers stopping the training process before the learner passes that point.\n",
    "\n",
    "> <b>Regularization</b>:\n",
    "This refers to a broad range of techniques for artificially forcing your model to be simpler.\n",
    "\n",
    "> <b>Ensembling</b>:\n",
    "This refers to Bagging and Boosting"
   ]
  }
 ],
 "metadata": {
  "kernelspec": {
   "display_name": "Python 3",
   "language": "python",
   "name": "python3"
  },
  "language_info": {
   "codemirror_mode": {
    "name": "ipython",
    "version": 3
   },
   "file_extension": ".py",
   "mimetype": "text/x-python",
   "name": "python",
   "nbconvert_exporter": "python",
   "pygments_lexer": "ipython3",
   "version": "3.7.1"
  }
 },
 "nbformat": 4,
 "nbformat_minor": 2
}
